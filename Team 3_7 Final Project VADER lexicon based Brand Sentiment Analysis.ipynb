{
 "cells": [
  {
   "cell_type": "code",
   "execution_count": 1,
   "metadata": {},
   "outputs": [
    {
     "name": "stdout",
     "output_type": "stream",
     "text": [
      "Requirement already satisfied: numpy in c:\\users\\fefe\\anaconda3\\lib\\site-packages (1.20.2)\n",
      "Requirement already satisfied: pandas in c:\\users\\fefe\\anaconda3\\lib\\site-packages (1.2.3)\n",
      "Requirement already satisfied: python-dateutil>=2.7.3 in c:\\users\\fefe\\anaconda3\\lib\\site-packages (from pandas) (2.8.1)\n",
      "Requirement already satisfied: numpy>=1.16.5 in c:\\users\\fefe\\anaconda3\\lib\\site-packages (from pandas) (1.20.2)\n",
      "Requirement already satisfied: pytz>=2017.3 in c:\\users\\fefe\\anaconda3\\lib\\site-packages (from pandas) (2020.1)\n",
      "Requirement already satisfied: six>=1.5 in c:\\users\\fefe\\anaconda3\\lib\\site-packages (from python-dateutil>=2.7.3->pandas) (1.15.0)\n",
      "Requirement already satisfied: nltk in c:\\users\\fefe\\anaconda3\\lib\\site-packages (3.5)\n",
      "Requirement already satisfied: tqdm in c:\\users\\fefe\\anaconda3\\lib\\site-packages (from nltk) (4.47.0)\n",
      "Requirement already satisfied: regex in c:\\users\\fefe\\anaconda3\\lib\\site-packages (from nltk) (2020.6.8)\n",
      "Requirement already satisfied: click in c:\\users\\fefe\\anaconda3\\lib\\site-packages (from nltk) (7.1.2)\n",
      "Requirement already satisfied: joblib in c:\\users\\fefe\\anaconda3\\lib\\site-packages (from nltk) (0.16.0)\n",
      "Requirement already satisfied: sklearn in c:\\users\\fefe\\anaconda3\\lib\\site-packages (0.0)\n",
      "Requirement already satisfied: scikit-learn in c:\\users\\fefe\\anaconda3\\lib\\site-packages (from sklearn) (0.23.1)\n",
      "Requirement already satisfied: scipy>=0.19.1 in c:\\users\\fefe\\anaconda3\\lib\\site-packages (from scikit-learn->sklearn) (1.5.0)\n",
      "Requirement already satisfied: joblib>=0.11 in c:\\users\\fefe\\anaconda3\\lib\\site-packages (from scikit-learn->sklearn) (0.16.0)\n",
      "Requirement already satisfied: threadpoolctl>=2.0.0 in c:\\users\\fefe\\anaconda3\\lib\\site-packages (from scikit-learn->sklearn) (2.1.0)\n",
      "Requirement already satisfied: numpy>=1.13.3 in c:\\users\\fefe\\anaconda3\\lib\\site-packages (from scikit-learn->sklearn) (1.20.2)\n"
     ]
    },
    {
     "name": "stderr",
     "output_type": "stream",
     "text": [
      "ERROR: Invalid requirement: '#visualizing'\n"
     ]
    },
    {
     "name": "stdout",
     "output_type": "stream",
     "text": [
      "Processing c:\\users\\fefe\\appdata\\local\\pip\\cache\\wheels\\4f\\85\\2a\\67a30aa6cf144eca0c159f337ce5166df2213c4cde9e699cbe\\html_parser-0.2-py3-none-any.whl\n",
      "Requirement already satisfied: ply in c:\\users\\fefe\\anaconda3\\lib\\site-packages (from html.parser) (3.11)\n",
      "Installing collected packages: html.parser\n",
      "Successfully installed html.parser\n",
      "Requirement already satisfied: pattern3 in c:\\users\\fefe\\anaconda3\\lib\\site-packages (3.0.0)\n",
      "Requirement already satisfied: docx in c:\\users\\fefe\\anaconda3\\lib\\site-packages (from pattern3) (0.2.4)\n",
      "Requirement already satisfied: pdfminer3k in c:\\users\\fefe\\anaconda3\\lib\\site-packages (from pattern3) (1.3.4)\n",
      "Requirement already satisfied: simplejson in c:\\users\\fefe\\anaconda3\\lib\\site-packages (from pattern3) (3.17.2)\n",
      "Requirement already satisfied: beautifulsoup4 in c:\\users\\fefe\\anaconda3\\lib\\site-packages (from pattern3) (4.9.1)\n",
      "Requirement already satisfied: pdfminer.six in c:\\users\\fefe\\anaconda3\\lib\\site-packages (from pattern3) (20201018)\n",
      "Requirement already satisfied: feedparser in c:\\users\\fefe\\anaconda3\\lib\\site-packages (from pattern3) (6.0.2)\n",
      "Requirement already satisfied: cherrypy in c:\\users\\fefe\\anaconda3\\lib\\site-packages (from pattern3) (18.6.0)\n",
      "Requirement already satisfied: lxml in c:\\users\\fefe\\anaconda3\\lib\\site-packages (from docx->pattern3) (4.5.2)\n",
      "Requirement already satisfied: Pillow>=2.0 in c:\\users\\fefe\\anaconda3\\lib\\site-packages (from docx->pattern3) (7.2.0)\n",
      "Requirement already satisfied: ply in c:\\users\\fefe\\anaconda3\\lib\\site-packages (from pdfminer3k->pattern3) (3.11)\n",
      "Requirement already satisfied: soupsieve>1.2 in c:\\users\\fefe\\anaconda3\\lib\\site-packages (from beautifulsoup4->pattern3) (2.0.1)\n",
      "Requirement already satisfied: sortedcontainers in c:\\users\\fefe\\anaconda3\\lib\\site-packages (from pdfminer.six->pattern3) (2.2.2)\n",
      "Requirement already satisfied: chardet; python_version > \"3.0\" in c:\\users\\fefe\\anaconda3\\lib\\site-packages (from pdfminer.six->pattern3) (3.0.4)\n",
      "Requirement already satisfied: cryptography in c:\\users\\fefe\\anaconda3\\lib\\site-packages (from pdfminer.six->pattern3) (2.9.2)\n",
      "Requirement already satisfied: sgmllib3k in c:\\users\\fefe\\anaconda3\\lib\\site-packages (from feedparser->pattern3) (1.0.0)\n",
      "Requirement already satisfied: zc.lockfile in c:\\users\\fefe\\anaconda3\\lib\\site-packages (from cherrypy->pattern3) (2.0)\n",
      "Requirement already satisfied: cheroot>=8.2.1 in c:\\users\\fefe\\anaconda3\\lib\\site-packages (from cherrypy->pattern3) (8.5.2)\n",
      "Requirement already satisfied: more-itertools in c:\\users\\fefe\\anaconda3\\lib\\site-packages (from cherrypy->pattern3) (8.4.0)\n",
      "Requirement already satisfied: jaraco.collections in c:\\users\\fefe\\anaconda3\\lib\\site-packages (from cherrypy->pattern3) (3.3.0)\n",
      "Requirement already satisfied: pywin32; sys_platform == \"win32\" in c:\\users\\fefe\\anaconda3\\lib\\site-packages (from cherrypy->pattern3) (227)\n",
      "Requirement already satisfied: portend>=2.1.1 in c:\\users\\fefe\\anaconda3\\lib\\site-packages (from cherrypy->pattern3) (2.7.1)\n",
      "Requirement already satisfied: cffi!=1.11.3,>=1.8 in c:\\users\\fefe\\anaconda3\\lib\\site-packages (from cryptography->pdfminer.six->pattern3) (1.14.0)\n",
      "Requirement already satisfied: six>=1.4.1 in c:\\users\\fefe\\anaconda3\\lib\\site-packages (from cryptography->pdfminer.six->pattern3) (1.15.0)\n",
      "Requirement already satisfied: setuptools in c:\\users\\fefe\\anaconda3\\lib\\site-packages (from zc.lockfile->cherrypy->pattern3) (49.2.0.post20200714)\n",
      "Requirement already satisfied: jaraco.functools in c:\\users\\fefe\\anaconda3\\lib\\site-packages (from cheroot>=8.2.1->cherrypy->pattern3) (3.3.0)\n",
      "Requirement already satisfied: jaraco.classes in c:\\users\\fefe\\anaconda3\\lib\\site-packages (from jaraco.collections->cherrypy->pattern3) (3.2.1)\n",
      "Requirement already satisfied: jaraco.text in c:\\users\\fefe\\anaconda3\\lib\\site-packages (from jaraco.collections->cherrypy->pattern3) (3.5.0)\n",
      "Requirement already satisfied: tempora>=1.8 in c:\\users\\fefe\\anaconda3\\lib\\site-packages (from portend>=2.1.1->cherrypy->pattern3) (4.0.1)\n",
      "Requirement already satisfied: pycparser in c:\\users\\fefe\\anaconda3\\lib\\site-packages (from cffi!=1.11.3,>=1.8->cryptography->pdfminer.six->pattern3) (2.20)\n",
      "Requirement already satisfied: pytz in c:\\users\\fefe\\anaconda3\\lib\\site-packages (from tempora>=1.8->portend>=2.1.1->cherrypy->pattern3) (2020.1)\n",
      "Requirement already satisfied: pyLDAvis in c:\\users\\fefe\\anaconda3\\lib\\site-packages (3.3.1)\n",
      "Requirement already satisfied: scipy in c:\\users\\fefe\\anaconda3\\lib\\site-packages (from pyLDAvis) (1.5.0)\n",
      "Requirement already satisfied: numpy>=1.20.0 in c:\\users\\fefe\\anaconda3\\lib\\site-packages (from pyLDAvis) (1.20.2)\n",
      "Requirement already satisfied: funcy in c:\\users\\fefe\\anaconda3\\lib\\site-packages (from pyLDAvis) (1.15)\n",
      "Requirement already satisfied: numexpr in c:\\users\\fefe\\anaconda3\\lib\\site-packages (from pyLDAvis) (2.7.1)\n",
      "Requirement already satisfied: joblib in c:\\users\\fefe\\anaconda3\\lib\\site-packages (from pyLDAvis) (0.16.0)\n",
      "Requirement already satisfied: sklearn in c:\\users\\fefe\\anaconda3\\lib\\site-packages (from pyLDAvis) (0.0)\n",
      "Requirement already satisfied: future in c:\\users\\fefe\\anaconda3\\lib\\site-packages (from pyLDAvis) (0.18.2)\n",
      "Requirement already satisfied: scikit-learn in c:\\users\\fefe\\anaconda3\\lib\\site-packages (from pyLDAvis) (0.23.1)\n",
      "Requirement already satisfied: pandas>=1.2.0 in c:\\users\\fefe\\anaconda3\\lib\\site-packages (from pyLDAvis) (1.2.3)\n",
      "Requirement already satisfied: gensim in c:\\users\\fefe\\anaconda3\\lib\\site-packages (from pyLDAvis) (4.0.1)\n",
      "Requirement already satisfied: setuptools in c:\\users\\fefe\\anaconda3\\lib\\site-packages (from pyLDAvis) (49.2.0.post20200714)\n",
      "Requirement already satisfied: jinja2 in c:\\users\\fefe\\anaconda3\\lib\\site-packages (from pyLDAvis) (2.11.2)\n",
      "Requirement already satisfied: threadpoolctl>=2.0.0 in c:\\users\\fefe\\anaconda3\\lib\\site-packages (from scikit-learn->pyLDAvis) (2.1.0)\n",
      "Requirement already satisfied: pytz>=2017.3 in c:\\users\\fefe\\anaconda3\\lib\\site-packages (from pandas>=1.2.0->pyLDAvis) (2020.1)\n",
      "Requirement already satisfied: python-dateutil>=2.7.3 in c:\\users\\fefe\\anaconda3\\lib\\site-packages (from pandas>=1.2.0->pyLDAvis) (2.8.1)\n",
      "Requirement already satisfied: Cython==0.29.21 in c:\\users\\fefe\\anaconda3\\lib\\site-packages (from gensim->pyLDAvis) (0.29.21)\n",
      "Requirement already satisfied: smart-open>=1.8.1 in c:\\users\\fefe\\anaconda3\\lib\\site-packages (from gensim->pyLDAvis) (5.0.0)\n",
      "Requirement already satisfied: MarkupSafe>=0.23 in c:\\users\\fefe\\anaconda3\\lib\\site-packages (from jinja2->pyLDAvis) (1.1.1)\n",
      "Requirement already satisfied: six>=1.5 in c:\\users\\fefe\\anaconda3\\lib\\site-packages (from python-dateutil>=2.7.3->pandas>=1.2.0->pyLDAvis) (1.15.0)\n",
      "Original:   <p>The circus dog in a plissé skirt jumped over Python who wasn't that large, just 3 feet long.</p>\n",
      "Processed:  ['<', 'p', '>', 'The', 'circus', 'dog', 'in', 'a', 'plissé', 'skirt', 'jumped', 'over', 'Python', 'who', 'was', \"n't\", 'that', 'large', ',', 'just', '3', 'feet', 'long.', '<', '/p', '>']\n",
      "Original:   <p>The circus dog in a plissé skirt jumped over Python who wasn't that large, just 3 feet long.</p>\n",
      "Processed:  <p>The circus dog in a plissé skirt jumped over Python who was not that large, just 3 feet long.</p>\n",
      "Original:   <p>The circus dog in a plissé skirt jumped over Python who wasn't that large, just 3 feet long.</p>\n"
     ]
    },
    {
     "name": "stderr",
     "output_type": "stream",
     "text": [
      "[nltk_data] Downloading package stopwords to\n",
      "[nltk_data]     C:\\Users\\fefe\\AppData\\Roaming\\nltk_data...\n",
      "[nltk_data]   Package stopwords is already up-to-date!\n",
      "[nltk_data] Downloading package punkt to\n",
      "[nltk_data]     C:\\Users\\fefe\\AppData\\Roaming\\nltk_data...\n",
      "[nltk_data]   Package punkt is already up-to-date!\n",
      "[nltk_data] Downloading package averaged_perceptron_tagger to\n",
      "[nltk_data]     C:\\Users\\fefe\\AppData\\Roaming\\nltk_data...\n",
      "[nltk_data]   Package averaged_perceptron_tagger is already up-to-\n",
      "[nltk_data]       date!\n",
      "[nltk_data] Downloading package wordnet to\n",
      "[nltk_data]     C:\\Users\\fefe\\AppData\\Roaming\\nltk_data...\n",
      "[nltk_data]   Package wordnet is already up-to-date!\n"
     ]
    },
    {
     "name": "stdout",
     "output_type": "stream",
     "text": [
      "Processed:  [('<', 'a'), ('p', 'n'), ('>', 'v'), ('the', None), ('circus', 'n'), ('dog', 'n'), ('in', None), ('a', None), ('plissé', 'n'), ('skirt', 'n'), ('jumped', 'v'), ('over', None), ('python', 'n'), ('who', None), ('was', 'v'), (\"n't\", 'r'), ('that', None), ('large', 'a'), (',', None), ('just', 'r'), ('3', None), ('feet', 'n'), ('long.', 'a'), ('<', 'n'), ('/p', 'n'), ('>', 'n')]\n",
      "Original:   <p>The circus dog in a plissé skirt jumped over Python who wasn't that large, just 3 feet long.</p>\n",
      "Processed:  < p > the circus dog in a plissé skirt jump over python who be n't that large , just 3 foot long. < /p >\n",
      "Original:   <p>The circus dog in a plissé skirt jumped over Python who wasn't that large, just 3 feet long.</p>\n",
      "Processed:    p   The circus dog in a plissé skirt jumped over Python who was n t that large   just 3 feet long     p  \n",
      "Original:   <p>The circus dog in a plissé skirt jumped over Python who wasn't that large, just 3 feet long.</p>\n",
      "Processed:  < p > The circus dog plissé skirt jumped Python n't large , 3 feet long. < /p >\n",
      "Original:   <p>The circus dog in a plissé skirt jumped over Python who wasn't that large, just 3 feet long.</p>\n",
      "Processed:  p The circus dog in a plissé skirt jumped over Python who was n't that large just feet long. /p\n",
      "Original:   <p>The circus dog in a plissé skirt jumped over Python who wasn't that large, just 3 feet long.</p>\n",
      "Processed:  The circus dog in a plissé skirt jumped over Python who wasn't that large, just 3 feet long.\n",
      "Original:   <p>The circus dog in a plissé skirt jumped over Python who wasn't that large, just 3 feet long.</p>\n",
      "Processed:  <p>The circus dog in a plisse skirt jumped over Python who wasn't that large, just 3 feet long.</p>\n"
     ]
    }
   ],
   "source": [
    "#the module 'sys' allows istalling module from inside Jupyter\n",
    "import sys\n",
    "\n",
    "!{sys.executable} -m pip install numpy\n",
    "import numpy as np\n",
    "\n",
    "!{sys.executable} -m pip install pandas\n",
    "import pandas as pd\n",
    "\n",
    "#Natrual Language ToolKit (NLTK)\n",
    "!{sys.executable} -m pip install nltk\n",
    "import nltk\n",
    "\n",
    "!{sys.executable} -m pip install sklearn\n",
    "from sklearn import metrics\n",
    "#from sklearn.model_selection import GridSearchCV\n",
    "from sklearn.feature_extraction.text import  CountVectorizer #bag-of-words vectorizer \n",
    "from sklearn.decomposition import LatentDirichletAllocation #package for LDA\n",
    "\n",
    "# Plotting tools\n",
    "\n",
    "from pprint import pprint\n",
    "!{sys.executable} -m pip install pyLDAvis #visualizing LDA\n",
    "import pyLDAvis\n",
    "import pyLDAvis.sklearn\n",
    "\n",
    "import matplotlib.pyplot as plt\n",
    "%matplotlib inline\n",
    "\n",
    "#ignore warnings about future changes in functions as they take too much space\n",
    "import warnings\n",
    "warnings.simplefilter(action='ignore', category=FutureWarning)\n",
    "warnings.filterwarnings(\"ignore\", category=DeprecationWarning)\n",
    "\n",
    "#define text normalization function\n",
    "%run ./Text_Normalization_Function.ipynb #defining text normalization function"
   ]
  },
  {
   "cell_type": "code",
   "execution_count": 36,
   "metadata": {},
   "outputs": [],
   "source": [
    "data = pd.read_csv('Amazon_Unlocked_Mobile.csv')"
   ]
  },
  {
   "cell_type": "markdown",
   "metadata": {},
   "source": [
    "Extract data from three largest cell phone manufacturers"
   ]
  },
  {
   "cell_type": "code",
   "execution_count": 38,
   "metadata": {},
   "outputs": [],
   "source": [
    "Samsung = data[data[\"Brand Name\"] == \"Samsung\"]\n",
    "Apple = data[data[\"Brand Name\"] == \"Apple\"]\n",
    "Huawei = data[data[\"Brand Name\"] == \"Huawei\"]"
   ]
  },
  {
   "cell_type": "markdown",
   "metadata": {},
   "source": [
    "Sample 20% of the first two brands and all of third brand as research object"
   ]
  },
  {
   "cell_type": "code",
   "execution_count": 39,
   "metadata": {},
   "outputs": [
    {
     "name": "stdout",
     "output_type": "stream",
     "text": [
      "(13149, 6)\n",
      "(11637, 6)\n",
      "(3325, 6)\n"
     ]
    }
   ],
   "source": [
    "Samsung = Samsung.sample(frac = 0.2, random_state = 10)\n",
    "Apple = Apple.sample(frac = 0.2, random_state = 10)\n",
    "# Huawei has only 3325 rows of data which does not need to further split.\n",
    "print(Samsung.shape)\n",
    "print(Apple.shape)\n",
    "print(Huawei.shape)"
   ]
  },
  {
   "cell_type": "markdown",
   "metadata": {},
   "source": [
    "Preprocess The three dataframes, steps including: 1) drop NAs, 2) filter rating 3, 3)Create polarity column"
   ]
  },
  {
   "cell_type": "code",
   "execution_count": 99,
   "metadata": {},
   "outputs": [
    {
     "name": "stderr",
     "output_type": "stream",
     "text": [
      "<ipython-input-99-f5230de3da82>:5: SettingWithCopyWarning: \n",
      "A value is trying to be set on a copy of a slice from a DataFrame.\n",
      "Try using .loc[row_indexer,col_indexer] = value instead\n",
      "\n",
      "See the caveats in the documentation: https://pandas.pydata.org/pandas-docs/stable/user_guide/indexing.html#returning-a-view-versus-a-copy\n",
      "  Samsung[\"polarity\"] = np.where(Samsung[\"Rating\"] >3, \"positive\", \"negative\")\n"
     ]
    }
   ],
   "source": [
    "Samsung.dropna(inplace=True)\n",
    "\n",
    "Samsung = Samsung[Samsung[\"Rating\"] !=3]\n",
    "\n",
    "Samsung[\"polarity\"] = np.where(Samsung[\"Rating\"] >3, \"positive\", \"negative\")"
   ]
  },
  {
   "cell_type": "code",
   "execution_count": 98,
   "metadata": {},
   "outputs": [
    {
     "name": "stderr",
     "output_type": "stream",
     "text": [
      "<ipython-input-98-81450ce20388>:5: SettingWithCopyWarning: \n",
      "A value is trying to be set on a copy of a slice from a DataFrame.\n",
      "Try using .loc[row_indexer,col_indexer] = value instead\n",
      "\n",
      "See the caveats in the documentation: https://pandas.pydata.org/pandas-docs/stable/user_guide/indexing.html#returning-a-view-versus-a-copy\n",
      "  Apple[\"polarity\"] = np.where(Apple[\"Rating\"] >3, \"positive\", \"negative\")\n"
     ]
    }
   ],
   "source": [
    "Apple.dropna(inplace=True)\n",
    "\n",
    "Apple = Apple[Apple[\"Rating\"] !=3]\n",
    "\n",
    "Apple[\"polarity\"] = np.where(Apple[\"Rating\"] >3, \"positive\", \"negative\")"
   ]
  },
  {
   "cell_type": "code",
   "execution_count": 100,
   "metadata": {},
   "outputs": [
    {
     "name": "stderr",
     "output_type": "stream",
     "text": [
      "<ipython-input-100-d8cd8fd20975>:1: SettingWithCopyWarning: \n",
      "A value is trying to be set on a copy of a slice from a DataFrame\n",
      "\n",
      "See the caveats in the documentation: https://pandas.pydata.org/pandas-docs/stable/user_guide/indexing.html#returning-a-view-versus-a-copy\n",
      "  Huawei.dropna(inplace=True)\n",
      "<ipython-input-100-d8cd8fd20975>:5: SettingWithCopyWarning: \n",
      "A value is trying to be set on a copy of a slice from a DataFrame.\n",
      "Try using .loc[row_indexer,col_indexer] = value instead\n",
      "\n",
      "See the caveats in the documentation: https://pandas.pydata.org/pandas-docs/stable/user_guide/indexing.html#returning-a-view-versus-a-copy\n",
      "  Huawei[\"polarity\"] = np.where(Huawei[\"Rating\"] >3, \"positive\", \"negative\")\n"
     ]
    }
   ],
   "source": [
    "Huawei.dropna(inplace=True)\n",
    "\n",
    "Huawei = Huawei[Huawei[\"Rating\"] !=3]\n",
    "\n",
    "Huawei[\"polarity\"] = np.where(Huawei[\"Rating\"] >3, \"positive\", \"negative\")"
   ]
  },
  {
   "cell_type": "markdown",
   "metadata": {},
   "source": [
    "Split each of the three dataframes into test and train datasets for later on supervised machine learning sentiment analysis "
   ]
  },
  {
   "cell_type": "code",
   "execution_count": 101,
   "metadata": {
    "scrolled": true
   },
   "outputs": [],
   "source": [
    "from sklearn.model_selection import train_test_split\n",
    "\n",
    "Samsung_Review = Samsung[\"Reviews\"]\n",
    "Samsung_Polarity = Samsung[\"polarity\"]\n",
    "\n",
    "Samsung_Review_train,Samsung_Review_test,Samsung_Polarity_train,Samsung_Polarity_test \\\n",
    "= train_test_split(Samsung_Review,Samsung_Polarity, random_state=0)"
   ]
  },
  {
   "cell_type": "code",
   "execution_count": 103,
   "metadata": {},
   "outputs": [],
   "source": [
    "Apple_Review = Apple[\"Reviews\"]\n",
    "Apple_Polarity = Apple[\"polarity\"]\n",
    "\n",
    "Apple_Review_train, Apple_Review_test, Apple_Polarity_train, Apple_Polarity_test \\\n",
    "= train_test_split(Apple_Review,Apple_Polarity, random_state=0)"
   ]
  },
  {
   "cell_type": "code",
   "execution_count": 104,
   "metadata": {},
   "outputs": [],
   "source": [
    "Huawei_Review = Huawei[\"Reviews\"]\n",
    "Huawei_Polarity = Huawei[\"polarity\"]\n",
    "\n",
    "Huawei_Review_train, Huawei_Review_test, Huawei_Polarity_train, Huawei_Polarity_test \\\n",
    "= train_test_split(Huawei_Review,Huawei_Polarity, random_state=0)"
   ]
  },
  {
   "cell_type": "markdown",
   "metadata": {},
   "source": [
    "Make the resulting test train data into NumPy arrays, resulting in 2 review arrays and 2 polarity arrays for each of the three brands"
   ]
  },
  {
   "cell_type": "code",
   "execution_count": 105,
   "metadata": {},
   "outputs": [],
   "source": [
    "Samsung_train_review = np.array(Samsung_Review_train)\n",
    "Samsung_train_polarity = np.array(Samsung_Polarity_train)\n",
    "\n",
    "Samsung_test_review = np.array(Samsung_Review_test)\n",
    "Samsung_test_polarity = np.array(Samsung_Polarity_test)"
   ]
  },
  {
   "cell_type": "code",
   "execution_count": 106,
   "metadata": {},
   "outputs": [],
   "source": [
    "normalized_Samsung_test_reviews = normalize_corpus(Samsung_test_review)\n",
    "normalized_Samsung_train_reviews = normalize_corpus(Samsung_Review_train)"
   ]
  },
  {
   "cell_type": "code",
   "execution_count": 107,
   "metadata": {},
   "outputs": [],
   "source": [
    "Apple_train_review = np.array(Apple_Review_train)\n",
    "Apple_train_polarity = np.array(Apple_Polarity_train)\n",
    "\n",
    "Apple_test_review = np.array(Apple_Review_test)\n",
    "Apple_test_polarity = np.array(Apple_Polarity_test)"
   ]
  },
  {
   "cell_type": "code",
   "execution_count": 108,
   "metadata": {},
   "outputs": [],
   "source": [
    "normalized_Apple_test_reviews = normalize_corpus(Apple_test_review)\n",
    "normalized_Apple_train_reviews = normalize_corpus(Apple_Review_train)"
   ]
  },
  {
   "cell_type": "code",
   "execution_count": 109,
   "metadata": {},
   "outputs": [],
   "source": [
    "Huawei_train_review = np.array(Huawei_Review_train)\n",
    "Huawei_train_polarity = np.array(Huawei_Polarity_train)\n",
    "\n",
    "Huawei_test_review = np.array(Huawei_Review_test)\n",
    "Huawei_test_polarity = np.array(Huawei_Polarity_test)"
   ]
  },
  {
   "cell_type": "code",
   "execution_count": 110,
   "metadata": {},
   "outputs": [],
   "source": [
    "normalized_Huawei_test_reviews = normalize_corpus(Huawei_test_review)\n",
    "normalized_Huawei_train_reviews = normalize_corpus(Huawei_Review_train)"
   ]
  },
  {
   "cell_type": "markdown",
   "metadata": {},
   "source": [
    "Lexicon-Based Sentiment Analysis (Unsupervised Machine learning)"
   ]
  },
  {
   "cell_type": "code",
   "execution_count": 111,
   "metadata": {},
   "outputs": [
    {
     "name": "stderr",
     "output_type": "stream",
     "text": [
      "[nltk_data] Downloading package vader_lexicon to\n",
      "[nltk_data]     C:\\Users\\fefe\\AppData\\Roaming\\nltk_data...\n",
      "[nltk_data]   Package vader_lexicon is already up-to-date!\n"
     ]
    },
    {
     "data": {
      "text/plain": [
       "True"
      ]
     },
     "execution_count": 111,
     "metadata": {},
     "output_type": "execute_result"
    }
   ],
   "source": [
    "nltk.download(\"vader_lexicon\")"
   ]
  },
  {
   "cell_type": "code",
   "execution_count": 112,
   "metadata": {},
   "outputs": [],
   "source": [
    "from nltk.sentiment.vader import SentimentIntensityAnalyzer\n",
    "analyzer = SentimentIntensityAnalyzer()"
   ]
  },
  {
   "cell_type": "markdown",
   "metadata": {},
   "source": [
    "Develop function to score review texts using VADER lexicon and output the actual and socred sentiment"
   ]
  },
  {
   "cell_type": "code",
   "execution_count": 113,
   "metadata": {},
   "outputs": [],
   "source": [
    "def analyze_sentiment_vader_lexicon(review, threshold = 0.1, verbose = False):\n",
    "    scores = analyzer.polarity_scores(review)\n",
    "    binary_sentiment = 'positive' if scores['compound'] >= threshold else 'negative'\n",
    "    if verbose:\n",
    "        print('VADER Polarity (Binary):', binary_sentiment)\n",
    "        print(\"VADER Score:\", round(scores[\"compound\"],2))\n",
    "    return binary_sentiment,scores[\"compound\"]"
   ]
  },
  {
   "cell_type": "markdown",
   "metadata": {},
   "source": [
    "Apply the function on each of the three test datasets"
   ]
  },
  {
   "cell_type": "code",
   "execution_count": 117,
   "metadata": {},
   "outputs": [
    {
     "data": {
      "text/html": [
       "<div>\n",
       "<style scoped>\n",
       "    .dataframe tbody tr th:only-of-type {\n",
       "        vertical-align: middle;\n",
       "    }\n",
       "\n",
       "    .dataframe tbody tr th {\n",
       "        vertical-align: top;\n",
       "    }\n",
       "\n",
       "    .dataframe thead th {\n",
       "        text-align: right;\n",
       "    }\n",
       "</style>\n",
       "<table border=\"1\" class=\"dataframe\">\n",
       "  <thead>\n",
       "    <tr style=\"text-align: right;\">\n",
       "      <th></th>\n",
       "      <th>VADER Polarity</th>\n",
       "      <th>VADER Score</th>\n",
       "    </tr>\n",
       "  </thead>\n",
       "  <tbody>\n",
       "    <tr>\n",
       "      <th>0</th>\n",
       "      <td>positive</td>\n",
       "      <td>0.5023</td>\n",
       "    </tr>\n",
       "    <tr>\n",
       "      <th>1</th>\n",
       "      <td>negative</td>\n",
       "      <td>0.0000</td>\n",
       "    </tr>\n",
       "    <tr>\n",
       "      <th>2</th>\n",
       "      <td>positive</td>\n",
       "      <td>0.8846</td>\n",
       "    </tr>\n",
       "    <tr>\n",
       "      <th>3</th>\n",
       "      <td>positive</td>\n",
       "      <td>0.7951</td>\n",
       "    </tr>\n",
       "    <tr>\n",
       "      <th>4</th>\n",
       "      <td>positive</td>\n",
       "      <td>0.6530</td>\n",
       "    </tr>\n",
       "  </tbody>\n",
       "</table>\n",
       "</div>"
      ],
      "text/plain": [
       "  VADER Polarity  VADER Score\n",
       "0       positive       0.5023\n",
       "1       negative       0.0000\n",
       "2       positive       0.8846\n",
       "3       positive       0.7951\n",
       "4       positive       0.6530"
      ]
     },
     "execution_count": 117,
     "metadata": {},
     "output_type": "execute_result"
    }
   ],
   "source": [
    "VADER_polarity_Samsung_test = [analyze_sentiment_vader_lexicon(review, threshold = 0.1) for review in Samsung_test_review]\n",
    "VADER_polarity_Samsung_test_df = pd.DataFrame(VADER_polarity_Samsung_test, columns = [\"VADER Polarity\", \"VADER Score\"])\n",
    "VADER_polarity_Samsung_test_df.head()"
   ]
  },
  {
   "cell_type": "markdown",
   "metadata": {},
   "source": [
    "Calculate the accuracy rate of the VADER lexicon result against the acutal label"
   ]
  },
  {
   "cell_type": "code",
   "execution_count": 115,
   "metadata": {},
   "outputs": [
    {
     "name": "stdout",
     "output_type": "stream",
     "text": [
      "Accuracy Rate: 0.818 \n",
      "\n"
     ]
    }
   ],
   "source": [
    "from sklearn import metrics\n",
    "print('Accuracy Rate:', np.round(metrics.accuracy_score(Samsung_test_polarity, \n",
    "                                 VADER_polarity_Samsung_test_df['VADER Polarity']), 3),\"\\n\")"
   ]
  },
  {
   "cell_type": "markdown",
   "metadata": {},
   "source": [
    "Form a confusion matrix to calculate the precision and the recall for the VADER lexicon on review text"
   ]
  },
  {
   "cell_type": "code",
   "execution_count": 116,
   "metadata": {},
   "outputs": [
    {
     "data": {
      "text/html": [
       "<div>\n",
       "<style scoped>\n",
       "    .dataframe tbody tr th:only-of-type {\n",
       "        vertical-align: middle;\n",
       "    }\n",
       "\n",
       "    .dataframe tbody tr th {\n",
       "        vertical-align: top;\n",
       "    }\n",
       "\n",
       "    .dataframe thead th {\n",
       "        text-align: right;\n",
       "    }\n",
       "</style>\n",
       "<table border=\"1\" class=\"dataframe\">\n",
       "  <thead>\n",
       "    <tr style=\"text-align: right;\">\n",
       "      <th>Predicted:</th>\n",
       "      <th>negative</th>\n",
       "      <th>positive</th>\n",
       "      <th>All</th>\n",
       "    </tr>\n",
       "    <tr>\n",
       "      <th>True:</th>\n",
       "      <th></th>\n",
       "      <th></th>\n",
       "      <th></th>\n",
       "    </tr>\n",
       "  </thead>\n",
       "  <tbody>\n",
       "    <tr>\n",
       "      <th>negative</th>\n",
       "      <td>493</td>\n",
       "      <td>155</td>\n",
       "      <td>648</td>\n",
       "    </tr>\n",
       "    <tr>\n",
       "      <th>positive</th>\n",
       "      <td>384</td>\n",
       "      <td>1928</td>\n",
       "      <td>2312</td>\n",
       "    </tr>\n",
       "    <tr>\n",
       "      <th>All</th>\n",
       "      <td>877</td>\n",
       "      <td>2083</td>\n",
       "      <td>2960</td>\n",
       "    </tr>\n",
       "  </tbody>\n",
       "</table>\n",
       "</div>"
      ],
      "text/plain": [
       "Predicted:  negative  positive   All\n",
       "True:                               \n",
       "negative         493       155   648\n",
       "positive         384      1928  2312\n",
       "All              877      2083  2960"
      ]
     },
     "execution_count": 116,
     "metadata": {},
     "output_type": "execute_result"
    }
   ],
   "source": [
    "pd.crosstab(pd.Series(Samsung_test_polarity), \n",
    "            pd.Series(VADER_polarity_Samsung_test_df['VADER Polarity']), \n",
    "            rownames = ['True:'], \n",
    "            colnames = ['Predicted:'], \n",
    "            margins = True)"
   ]
  },
  {
   "cell_type": "markdown",
   "metadata": {},
   "source": [
    "Samsung Precision = 1928 / (1928 + 155) = 0.9255 \\\n",
    "Samsung Recall = 1928 / (1928 + 384) = 0.8339"
   ]
  },
  {
   "cell_type": "code",
   "execution_count": 118,
   "metadata": {},
   "outputs": [
    {
     "data": {
      "text/html": [
       "<div>\n",
       "<style scoped>\n",
       "    .dataframe tbody tr th:only-of-type {\n",
       "        vertical-align: middle;\n",
       "    }\n",
       "\n",
       "    .dataframe tbody tr th {\n",
       "        vertical-align: top;\n",
       "    }\n",
       "\n",
       "    .dataframe thead th {\n",
       "        text-align: right;\n",
       "    }\n",
       "</style>\n",
       "<table border=\"1\" class=\"dataframe\">\n",
       "  <thead>\n",
       "    <tr style=\"text-align: right;\">\n",
       "      <th></th>\n",
       "      <th>VADER Polarity</th>\n",
       "      <th>VADER Score</th>\n",
       "    </tr>\n",
       "  </thead>\n",
       "  <tbody>\n",
       "    <tr>\n",
       "      <th>0</th>\n",
       "      <td>positive</td>\n",
       "      <td>0.8360</td>\n",
       "    </tr>\n",
       "    <tr>\n",
       "      <th>1</th>\n",
       "      <td>positive</td>\n",
       "      <td>0.6369</td>\n",
       "    </tr>\n",
       "    <tr>\n",
       "      <th>2</th>\n",
       "      <td>negative</td>\n",
       "      <td>-0.7506</td>\n",
       "    </tr>\n",
       "    <tr>\n",
       "      <th>3</th>\n",
       "      <td>positive</td>\n",
       "      <td>0.1162</td>\n",
       "    </tr>\n",
       "    <tr>\n",
       "      <th>4</th>\n",
       "      <td>positive</td>\n",
       "      <td>0.7717</td>\n",
       "    </tr>\n",
       "  </tbody>\n",
       "</table>\n",
       "</div>"
      ],
      "text/plain": [
       "  VADER Polarity  VADER Score\n",
       "0       positive       0.8360\n",
       "1       positive       0.6369\n",
       "2       negative      -0.7506\n",
       "3       positive       0.1162\n",
       "4       positive       0.7717"
      ]
     },
     "execution_count": 118,
     "metadata": {},
     "output_type": "execute_result"
    }
   ],
   "source": [
    "VADER_polarity_Apple_test = [analyze_sentiment_vader_lexicon(review, threshold = 0.1) for review in Apple_test_review]\n",
    "VADER_polarity_Apple_test_df = pd.DataFrame(VADER_polarity_Apple_test, columns = [\"VADER Polarity\", \"VADER Score\"])\n",
    "VADER_polarity_Apple_test_df.head()"
   ]
  },
  {
   "cell_type": "code",
   "execution_count": 119,
   "metadata": {},
   "outputs": [
    {
     "name": "stdout",
     "output_type": "stream",
     "text": [
      "Accuracy Rate: 0.832 \n",
      "\n"
     ]
    }
   ],
   "source": [
    "print('Accuracy Rate:', np.round(metrics.accuracy_score(Apple_test_polarity, \n",
    "                                 VADER_polarity_Apple_test_df['VADER Polarity']), 3),\"\\n\")"
   ]
  },
  {
   "cell_type": "code",
   "execution_count": 120,
   "metadata": {},
   "outputs": [
    {
     "data": {
      "text/html": [
       "<div>\n",
       "<style scoped>\n",
       "    .dataframe tbody tr th:only-of-type {\n",
       "        vertical-align: middle;\n",
       "    }\n",
       "\n",
       "    .dataframe tbody tr th {\n",
       "        vertical-align: top;\n",
       "    }\n",
       "\n",
       "    .dataframe thead th {\n",
       "        text-align: right;\n",
       "    }\n",
       "</style>\n",
       "<table border=\"1\" class=\"dataframe\">\n",
       "  <thead>\n",
       "    <tr style=\"text-align: right;\">\n",
       "      <th>Predicted:</th>\n",
       "      <th>negative</th>\n",
       "      <th>positive</th>\n",
       "      <th>All</th>\n",
       "    </tr>\n",
       "    <tr>\n",
       "      <th>True:</th>\n",
       "      <th></th>\n",
       "      <th></th>\n",
       "      <th></th>\n",
       "    </tr>\n",
       "  </thead>\n",
       "  <tbody>\n",
       "    <tr>\n",
       "      <th>negative</th>\n",
       "      <td>533</td>\n",
       "      <td>136</td>\n",
       "      <td>669</td>\n",
       "    </tr>\n",
       "    <tr>\n",
       "      <th>positive</th>\n",
       "      <td>313</td>\n",
       "      <td>1688</td>\n",
       "      <td>2001</td>\n",
       "    </tr>\n",
       "    <tr>\n",
       "      <th>All</th>\n",
       "      <td>846</td>\n",
       "      <td>1824</td>\n",
       "      <td>2670</td>\n",
       "    </tr>\n",
       "  </tbody>\n",
       "</table>\n",
       "</div>"
      ],
      "text/plain": [
       "Predicted:  negative  positive   All\n",
       "True:                               \n",
       "negative         533       136   669\n",
       "positive         313      1688  2001\n",
       "All              846      1824  2670"
      ]
     },
     "execution_count": 120,
     "metadata": {},
     "output_type": "execute_result"
    }
   ],
   "source": [
    "pd.crosstab(pd.Series(Apple_test_polarity), \n",
    "            pd.Series(VADER_polarity_Apple_test_df['VADER Polarity']), \n",
    "            rownames = ['True:'], \n",
    "            colnames = ['Predicted:'], \n",
    "            margins = True)"
   ]
  },
  {
   "cell_type": "markdown",
   "metadata": {},
   "source": [
    "Apple Precision = 1688 / (1688 + 136) = 0.9254 \\\n",
    "Apple Recall = 1688 / (1688 + 313) = 0.8436"
   ]
  },
  {
   "cell_type": "code",
   "execution_count": 121,
   "metadata": {},
   "outputs": [
    {
     "data": {
      "text/html": [
       "<div>\n",
       "<style scoped>\n",
       "    .dataframe tbody tr th:only-of-type {\n",
       "        vertical-align: middle;\n",
       "    }\n",
       "\n",
       "    .dataframe tbody tr th {\n",
       "        vertical-align: top;\n",
       "    }\n",
       "\n",
       "    .dataframe thead th {\n",
       "        text-align: right;\n",
       "    }\n",
       "</style>\n",
       "<table border=\"1\" class=\"dataframe\">\n",
       "  <thead>\n",
       "    <tr style=\"text-align: right;\">\n",
       "      <th></th>\n",
       "      <th>VADER Polarity</th>\n",
       "      <th>VADER Score</th>\n",
       "    </tr>\n",
       "  </thead>\n",
       "  <tbody>\n",
       "    <tr>\n",
       "      <th>0</th>\n",
       "      <td>positive</td>\n",
       "      <td>0.6696</td>\n",
       "    </tr>\n",
       "    <tr>\n",
       "      <th>1</th>\n",
       "      <td>positive</td>\n",
       "      <td>0.7906</td>\n",
       "    </tr>\n",
       "    <tr>\n",
       "      <th>2</th>\n",
       "      <td>negative</td>\n",
       "      <td>-0.2121</td>\n",
       "    </tr>\n",
       "    <tr>\n",
       "      <th>3</th>\n",
       "      <td>negative</td>\n",
       "      <td>0.0000</td>\n",
       "    </tr>\n",
       "    <tr>\n",
       "      <th>4</th>\n",
       "      <td>negative</td>\n",
       "      <td>-0.6908</td>\n",
       "    </tr>\n",
       "  </tbody>\n",
       "</table>\n",
       "</div>"
      ],
      "text/plain": [
       "  VADER Polarity  VADER Score\n",
       "0       positive       0.6696\n",
       "1       positive       0.7906\n",
       "2       negative      -0.2121\n",
       "3       negative       0.0000\n",
       "4       negative      -0.6908"
      ]
     },
     "execution_count": 121,
     "metadata": {},
     "output_type": "execute_result"
    }
   ],
   "source": [
    "VADER_polarity_Huawei_test = [analyze_sentiment_vader_lexicon(review, threshold = 0.1) for review in Huawei_test_review]\n",
    "VADER_polarity_Huawei_test_df = pd.DataFrame(VADER_polarity_Huawei_test, columns = [\"VADER Polarity\", \"VADER Score\"])\n",
    "VADER_polarity_Huawei_test_df.head()"
   ]
  },
  {
   "cell_type": "code",
   "execution_count": 140,
   "metadata": {},
   "outputs": [
    {
     "name": "stdout",
     "output_type": "stream",
     "text": [
      "Accuracy Rate: 0.834 \n",
      "\n"
     ]
    }
   ],
   "source": [
    "print('Accuracy Rate:', np.round(metrics.accuracy_score(Huawei_test_polarity, \n",
    "                                 VADER_polarity_Huawei_test_df['VADER Polarity']), 3),\"\\n\")"
   ]
  },
  {
   "cell_type": "code",
   "execution_count": 123,
   "metadata": {},
   "outputs": [
    {
     "data": {
      "text/html": [
       "<div>\n",
       "<style scoped>\n",
       "    .dataframe tbody tr th:only-of-type {\n",
       "        vertical-align: middle;\n",
       "    }\n",
       "\n",
       "    .dataframe tbody tr th {\n",
       "        vertical-align: top;\n",
       "    }\n",
       "\n",
       "    .dataframe thead th {\n",
       "        text-align: right;\n",
       "    }\n",
       "</style>\n",
       "<table border=\"1\" class=\"dataframe\">\n",
       "  <thead>\n",
       "    <tr style=\"text-align: right;\">\n",
       "      <th>Predicted:</th>\n",
       "      <th>negative</th>\n",
       "      <th>positive</th>\n",
       "      <th>All</th>\n",
       "    </tr>\n",
       "    <tr>\n",
       "      <th>True:</th>\n",
       "      <th></th>\n",
       "      <th></th>\n",
       "      <th></th>\n",
       "    </tr>\n",
       "  </thead>\n",
       "  <tbody>\n",
       "    <tr>\n",
       "      <th>negative</th>\n",
       "      <td>69</td>\n",
       "      <td>25</td>\n",
       "      <td>94</td>\n",
       "    </tr>\n",
       "    <tr>\n",
       "      <th>positive</th>\n",
       "      <td>100</td>\n",
       "      <td>560</td>\n",
       "      <td>660</td>\n",
       "    </tr>\n",
       "    <tr>\n",
       "      <th>All</th>\n",
       "      <td>169</td>\n",
       "      <td>585</td>\n",
       "      <td>754</td>\n",
       "    </tr>\n",
       "  </tbody>\n",
       "</table>\n",
       "</div>"
      ],
      "text/plain": [
       "Predicted:  negative  positive  All\n",
       "True:                              \n",
       "negative          69        25   94\n",
       "positive         100       560  660\n",
       "All              169       585  754"
      ]
     },
     "execution_count": 123,
     "metadata": {},
     "output_type": "execute_result"
    }
   ],
   "source": [
    "pd.crosstab(pd.Series(Huawei_test_polarity), \n",
    "            pd.Series(VADER_polarity_Huawei_test_df['VADER Polarity']), \n",
    "            rownames = ['True:'], \n",
    "            colnames = ['Predicted:'], \n",
    "            margins = True)"
   ]
  },
  {
   "cell_type": "markdown",
   "metadata": {},
   "source": [
    "Huawei Precision = 560 / (560 + 25) = 0.9573 \\\n",
    "Huawei Recall = 560 / (560 + 100) = 0.8485"
   ]
  },
  {
   "cell_type": "markdown",
   "metadata": {},
   "source": [
    "Define a new function that output the accuracy of VADER lexicon under different threshold values"
   ]
  },
  {
   "cell_type": "code",
   "execution_count": 145,
   "metadata": {},
   "outputs": [],
   "source": [
    "def try_threshold_for_accuracy_Samsung(sentiment_scores, threshold_for_pos):\n",
    "    VADER_binary_polarity = ['positive' if s >= threshold_for_pos else 'negative' for s in list(sentiment_scores)]\n",
    "    accuracy = metrics.accuracy_score(Samsung_test_polarity, VADER_binary_polarity)\n",
    "    return(accuracy) "
   ]
  },
  {
   "cell_type": "markdown",
   "metadata": {},
   "source": [
    "Apply the above function on each of the three brands and on 1000 different threshold values. Then plot the resulting accuracy rate against the threshold score to find out the optimal threshold value of each of the three brands."
   ]
  },
  {
   "cell_type": "code",
   "execution_count": 179,
   "metadata": {},
   "outputs": [
    {
     "data": {
      "image/png": "[encoded data removed]",
      "text/plain": [
       "<Figure size 432x288 with 1 Axes>"
      ]
     },
     "metadata": {
      "needs_background": "light"
     },
     "output_type": "display_data"
    }
   ],
   "source": [
    "thresholds = np.linspace(-1,1,1000)\n",
    "Samsung_acc_rates = [try_threshold_for_accuracy_Samsung(VADER_polarity_Samsung_test_df['VADER Score'], threshold) for threshold in thresholds]\n",
    "\n",
    "plt.plot(thresholds, Samsung_acc_rates)\n",
    "plt.xlabel(\"Threshold score for positive (binary) sentiment polarity\")\n",
    "plt.ylabel(\"Samsung Accuracy rate\")\n",
    "plt.title(\"Accuracy Rate of Sentiment Polarity Prediction \\n as a Function of Threshold for VADER Scores \\n\")\n",
    "plt.show()"
   ]
  },
  {
   "cell_type": "markdown",
   "metadata": {},
   "source": [
    "Find out the optimal threshold value for each brand "
   ]
  },
  {
   "cell_type": "code",
   "execution_count": 149,
   "metadata": {},
   "outputs": [
    {
     "data": {
      "text/plain": [
       "-0.07707707707707712"
      ]
     },
     "execution_count": 149,
     "metadata": {},
     "output_type": "execute_result"
    }
   ],
   "source": [
    "thresholds[Samsung_acc_rates.index(max(Samsung_acc_rates))]"
   ]
  },
  {
   "cell_type": "markdown",
   "metadata": {},
   "source": [
    "Find out the maximum accuracy rate under the optimal threshold value"
   ]
  },
  {
   "cell_type": "code",
   "execution_count": 150,
   "metadata": {},
   "outputs": [
    {
     "data": {
      "text/plain": [
       "0.8601351351351352"
      ]
     },
     "execution_count": 150,
     "metadata": {},
     "output_type": "execute_result"
    }
   ],
   "source": [
    "max(Samsung_acc_rates)"
   ]
  },
  {
   "cell_type": "code",
   "execution_count": 151,
   "metadata": {},
   "outputs": [],
   "source": [
    "def try_threshold_for_accuracy_Apple(sentiment_scores, threshold_for_pos):\n",
    "    VADER_binary_polarity = ['positive' if s >= threshold_for_pos else 'negative' for s in list(sentiment_scores)]\n",
    "    accuracy = metrics.accuracy_score(Apple_test_polarity, VADER_binary_polarity)\n",
    "    return(accuracy) "
   ]
  },
  {
   "cell_type": "code",
   "execution_count": 180,
   "metadata": {},
   "outputs": [
    {
     "data": {
      "image/png": "[encoded data removed]",
      "text/plain": [
       "<Figure size 432x288 with 1 Axes>"
      ]
     },
     "metadata": {
      "needs_background": "light"
     },
     "output_type": "display_data"
    }
   ],
   "source": [
    "Apple_acc_rates = [try_threshold_for_accuracy_Apple(VADER_polarity_Apple_test_df['VADER Score'], threshold) for threshold in thresholds]\n",
    "\n",
    "plt.plot(thresholds, Apple_acc_rates)\n",
    "plt.xlabel(\"Threshold score for positive (binary) sentiment polarity\")\n",
    "plt.ylabel(\"Apple Accuracy rate\")\n",
    "plt.title(\"Accuracy Rate of Sentiment Polarity Prediction \\n as a Function of Threshold for VADER Scores \\n\")\n",
    "plt.show()"
   ]
  },
  {
   "cell_type": "code",
   "execution_count": 153,
   "metadata": {},
   "outputs": [
    {
     "data": {
      "text/plain": [
       "-0.08908908908908908"
      ]
     },
     "execution_count": 153,
     "metadata": {},
     "output_type": "execute_result"
    }
   ],
   "source": [
    "thresholds[Apple_acc_rates.index(max(Apple_acc_rates))]"
   ]
  },
  {
   "cell_type": "code",
   "execution_count": 154,
   "metadata": {},
   "outputs": [
    {
     "data": {
      "text/plain": [
       "0.8569288389513109"
      ]
     },
     "execution_count": 154,
     "metadata": {},
     "output_type": "execute_result"
    }
   ],
   "source": [
    "max(Apple_acc_rates)"
   ]
  },
  {
   "cell_type": "code",
   "execution_count": 155,
   "metadata": {},
   "outputs": [],
   "source": [
    "def try_threshold_for_accuracy_Huawei(sentiment_scores, threshold_for_pos):\n",
    "    VADER_binary_polarity = ['positive' if s >= threshold_for_pos else 'negative' for s in list(sentiment_scores)]\n",
    "    accuracy = metrics.accuracy_score(Huawei_test_polarity, VADER_binary_polarity)\n",
    "    return(accuracy) "
   ]
  },
  {
   "cell_type": "code",
   "execution_count": 181,
   "metadata": {},
   "outputs": [
    {
     "data": {
      "image/png": "[encoded data removed]",
      "text/plain": [
       "<Figure size 432x288 with 1 Axes>"
      ]
     },
     "metadata": {
      "needs_background": "light"
     },
     "output_type": "display_data"
    }
   ],
   "source": [
    "Huawei_acc_rates = [try_threshold_for_accuracy_Huawei(VADER_polarity_Huawei_test_df['VADER Score'], threshold) for threshold in thresholds]\n",
    "\n",
    "plt.plot(thresholds, Huawei_acc_rates)\n",
    "plt.xlabel(\"Threshold score for positive (binary) sentiment polarity\")\n",
    "plt.ylabel(\"Huawei Accuracy rate\")\n",
    "plt.title(\"Accuracy Rate of Sentiment Polarity Prediction \\n as a Function of Threshold for VADER Scores \\n\")\n",
    "plt.show()"
   ]
  },
  {
   "cell_type": "code",
   "execution_count": 158,
   "metadata": {},
   "outputs": [
    {
     "data": {
      "text/plain": [
       "-0.02302302302302306"
      ]
     },
     "execution_count": 158,
     "metadata": {},
     "output_type": "execute_result"
    }
   ],
   "source": [
    "thresholds[Huawei_acc_rates.index(max(Huawei_acc_rates))]"
   ]
  },
  {
   "cell_type": "code",
   "execution_count": 159,
   "metadata": {},
   "outputs": [
    {
     "data": {
      "text/plain": [
       "0.9177718832891246"
      ]
     },
     "execution_count": 159,
     "metadata": {},
     "output_type": "execute_result"
    }
   ],
   "source": [
    "max(Huawei_acc_rates)"
   ]
  },
  {
   "cell_type": "markdown",
   "metadata": {},
   "source": [
    "Interestingly, For all three brands, the threshold value that result in the highest model accuracy happens to be slightly below 0 (negative). This might imply that VADER, tends to report that a review is negative when in fact it is positive. Therefore, we need to be less strict with what we want to define as a positive review (from 0.1 to slightly negative in this case) In other words, we just need to see a few features in the text being rated by VADER as positive before we want to conclude that the review is actually positive.\n",
    "\n",
    "The recall is defined as Recall = true positives / (true positives + false negatives). Here, we can minimize the number of false negatives if we'd like to increase the recall rate. To minimize the number of false negatives we can set the VADER compound score threshold to be close to -1."
   ]
  }
 ],
 "metadata": {
  "kernelspec": {
   "display_name": "Python 3",
   "language": "python",
   "name": "python3"
  },
  "language_info": {
   "codemirror_mode": {
    "name": "ipython",
    "version": 3
   },
   "file_extension": ".py",
   "mimetype": "text/x-python",
   "name": "python",
   "nbconvert_exporter": "python",
   "pygments_lexer": "ipython3",
   "version": "3.8.3"
  }
 },
 "nbformat": 4,
 "nbformat_minor": 4
}
